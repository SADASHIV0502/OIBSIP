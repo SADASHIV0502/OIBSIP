{
  "nbformat": 4,
  "nbformat_minor": 0,
  "metadata": {
    "colab": {
      "provenance": []
    },
    "kernelspec": {
      "name": "python3",
      "display_name": "Python 3"
    },
    "language_info": {
      "name": "python"
    }
  },
  "cells": [
    {
      "cell_type": "code",
      "execution_count": 40,
      "metadata": {
        "id": "ETtM7oNmLsqE"
      },
      "outputs": [],
      "source": [
        "# importing essential libraries\n",
        "\n",
        "import pandas as pd\n",
        "import numpy as np\n",
        "from sklearn.preprocessing import StandardScaler\n",
        "from sklearn.model_selection import train_test_split\n",
        "from sklearn.linear_model import LogisticRegression\n",
        "from sklearn.tree import DecisionTreeClassifier\n",
        "from xgboost import XGBClassifier\n",
        "from sklearn.metrics import classification_report, confusion_matrix, roc_auc_score\n",
        "from imblearn.over_sampling import SMOTE\n",
        "import warnings\n",
        "warnings.filterwarnings(\"ignore\")"
      ]
    },
    {
      "cell_type": "code",
      "source": [
        "# loading dataset\n",
        "\n",
        "df = pd.read_csv(\"creditcard.csv\")"
      ],
      "metadata": {
        "id": "3pN6KkAqL8Jq"
      },
      "execution_count": 42,
      "outputs": []
    },
    {
      "cell_type": "code",
      "source": [
        "# feature engineering\n",
        "\n",
        "scaler = StandardScaler()\n",
        "df['norm_time'] = scaler.fit_transform(df['Time'].values.reshape(-1, 1))\n",
        "df['norm_amount'] = scaler.fit_transform(df['Amount'].values.reshape(-1, 1))"
      ],
      "metadata": {
        "id": "k2NpQnSFMLaY"
      },
      "execution_count": 43,
      "outputs": []
    },
    {
      "cell_type": "code",
      "source": [
        "# droping original values\n",
        "\n",
        "df.drop(['Time', 'Amount'], axis=1, inplace=True)"
      ],
      "metadata": {
        "id": "Hp79Y1S8MSFa"
      },
      "execution_count": 44,
      "outputs": []
    },
    {
      "cell_type": "code",
      "source": [
        "features = [col for col in df.columns if col != 'Class']\n",
        "df = df[features + ['Class']]\n"
      ],
      "metadata": {
        "id": "l_HyNE1VMUsE"
      },
      "execution_count": 45,
      "outputs": []
    },
    {
      "cell_type": "code",
      "source": [
        "X = df.drop('Class', axis=1)\n",
        "y = df['Class']"
      ],
      "metadata": {
        "id": "hM-98PjrMceZ"
      },
      "execution_count": 46,
      "outputs": []
    },
    {
      "cell_type": "code",
      "source": [
        "sm = SMOTE(random_state=42)\n",
        "\n",
        "# Drop rows where the target variable 'Class' is NaN\n",
        "df_cleaned = df.dropna(subset=['Class'])\n",
        "X_cleaned = df_cleaned.drop('Class', axis=1)\n",
        "y_cleaned = df_cleaned['Class']\n",
        "\n",
        "X_res, y_res = sm.fit_resample(X_cleaned, y_cleaned)"
      ],
      "metadata": {
        "id": "MhvInJuGMj7e"
      },
      "execution_count": 47,
      "outputs": []
    },
    {
      "cell_type": "code",
      "source": [
        "X_train, X_test, y_train, y_test = train_test_split(\n",
        "    X_res, y_res, test_size=0.2, random_state=42\n",
        ")"
      ],
      "metadata": {
        "id": "ZBzr4gpFMl-e"
      },
      "execution_count": 48,
      "outputs": []
    },
    {
      "cell_type": "code",
      "source": [
        "models = {\n",
        "    \"Logistic Regression\": LogisticRegression(max_iter=1000),\n",
        "    \"Decision Tree\": DecisionTreeClassifier(random_state=42),\n",
        "    \"XGBoost\": XGBClassifier(use_label_encoder=False, eval_metric='logloss', random_state=42)\n",
        "}"
      ],
      "metadata": {
        "id": "6cMSI6bkNPLZ"
      },
      "execution_count": 49,
      "outputs": []
    },
    {
      "cell_type": "code",
      "source": [
        "for name, model in models.items():\n",
        "    print(f\"\\n==================== {name} ====================\")\n",
        "\n",
        "    # Train the model\n",
        "    model.fit(X_train, y_train)\n",
        "\n",
        "    # Predict on test data\n",
        "    y_pred = model.predict(X_test)\n",
        "\n",
        "    # Evaluate the model\n",
        "    print(\"Classification Report:\\n\", classification_report(y_test, y_pred))\n",
        "    print(\"Confusion Matrix:\\n\", confusion_matrix(y_test, y_pred))\n",
        "    print(\"ROC-AUC Score:\", roc_auc_score(y_test, y_pred))"
      ],
      "metadata": {
        "colab": {
          "base_uri": "https://localhost:8080/"
        },
        "id": "z7BbrvOqNRxI",
        "outputId": "7fe9fba0-7950-4dbb-bbe0-e7b7423e3658"
      },
      "execution_count": 50,
      "outputs": [
        {
          "output_type": "stream",
          "name": "stdout",
          "text": [
            "\n",
            "==================== Logistic Regression ====================\n",
            "Classification Report:\n",
            "               precision    recall  f1-score   support\n",
            "\n",
            "           0       0.93      0.98      0.95     56750\n",
            "           1       0.97      0.92      0.95     56976\n",
            "\n",
            "    accuracy                           0.95    113726\n",
            "   macro avg       0.95      0.95      0.95    113726\n",
            "weighted avg       0.95      0.95      0.95    113726\n",
            "\n",
            "Confusion Matrix:\n",
            " [[55368  1382]\n",
            " [ 4429 52547]]\n",
            "ROC-AUC Score: 0.9489565461986004\n",
            "\n",
            "==================== Decision Tree ====================\n",
            "Classification Report:\n",
            "               precision    recall  f1-score   support\n",
            "\n",
            "           0       1.00      1.00      1.00     56750\n",
            "           1       1.00      1.00      1.00     56976\n",
            "\n",
            "    accuracy                           1.00    113726\n",
            "   macro avg       1.00      1.00      1.00    113726\n",
            "weighted avg       1.00      1.00      1.00    113726\n",
            "\n",
            "Confusion Matrix:\n",
            " [[56606   144]\n",
            " [   53 56923]]\n",
            "ROC-AUC Score: 0.9982661694173417\n",
            "\n",
            "==================== XGBoost ====================\n",
            "Classification Report:\n",
            "               precision    recall  f1-score   support\n",
            "\n",
            "           0       1.00      1.00      1.00     56750\n",
            "           1       1.00      1.00      1.00     56976\n",
            "\n",
            "    accuracy                           1.00    113726\n",
            "   macro avg       1.00      1.00      1.00    113726\n",
            "weighted avg       1.00      1.00      1.00    113726\n",
            "\n",
            "Confusion Matrix:\n",
            " [[56720    30]\n",
            " [    0 56976]]\n",
            "ROC-AUC Score: 0.9997356828193832\n"
          ]
        }
      ]
    },
    {
      "cell_type": "code",
      "source": [
        "# Step 1: Select the best trained model (e.g., XGBoost)\n",
        "best_model = XGBClassifier(use_label_encoder=False, eval_metric='logloss', random_state=42)\n",
        "best_model.fit(X_train, y_train)\n",
        "\n",
        "# Step 2: Define a function to predict based on custom input\n",
        "def predict_transaction(input_data):\n",
        "    \"\"\"\n",
        "    input_data: List of 30 values (V1 to V28 + norm_time + norm_amount)\n",
        "    \"\"\"\n",
        "    input_array = np.array(input_data).reshape(1, -1)\n",
        "    prediction = best_model.predict(input_array)\n",
        "    result = \"Fraudulent\" if prediction[0] == 1 else \"Legitimate\"\n",
        "    print(f\"Prediction: {result} transaction (Class = {prediction[0]})\")\n",
        "\n",
        "# Step 3: Example input (You will provide these values manually)\n",
        "# Make sure these 30 features are in the correct order\n",
        "sample_input = [\n",
        "    -1.359807, -0.072781, 2.536346, 1.378155, -0.338321, 0.462388,\n",
        "    0.239599, 0.098698, 0.363787, 0.090794, -0.551600, -0.617801,\n",
        "    -0.991390, -0.311169, 1.468177, -0.470400, 0.207971, 0.025791,\n",
        "    0.403993, 0.251412, -0.018307, 0.277838, -0.110474, 0.066928,\n",
        "    0.128539, -0.189115, 0.133558, -0.021053, 0.004455, -0.014823  # norm_time, norm_amount\n",
        "]\n",
        "\n",
        "# Step 4: Predict\n",
        "predict_transaction(sample_input)\n"
      ],
      "metadata": {
        "colab": {
          "base_uri": "https://localhost:8080/"
        },
        "id": "wO018BlMNVHK",
        "outputId": "11d35238-b966-42d4-caf2-1183d20658d9"
      },
      "execution_count": 51,
      "outputs": [
        {
          "output_type": "stream",
          "name": "stdout",
          "text": [
            "Prediction: Legitimate transaction (Class = 0)\n"
          ]
        }
      ]
    },
    {
      "cell_type": "code",
      "source": [],
      "metadata": {
        "id": "_ZemEYHBUMob"
      },
      "execution_count": null,
      "outputs": []
    }
  ]
}